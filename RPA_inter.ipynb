{
 "cells": [
  {
   "cell_type": "markdown",
   "id": "a1ec0269",
   "metadata": {},
   "source": [
    "***Importações***"
   ]
  },
  {
   "cell_type": "code",
   "execution_count": 60,
   "id": "35c87ff1",
   "metadata": {},
   "outputs": [],
   "source": [
    "import psycopg2\n",
    "import pandas as pd\n",
    "from dotenv import load_dotenv\n",
    "import os\n"
   ]
  },
  {
   "cell_type": "markdown",
   "id": "58ded077",
   "metadata": {},
   "source": [
    "***Conexão ao Banco de Dados do 1° e do 2°*** "
   ]
  },
  {
   "cell_type": "code",
   "execution_count": 61,
   "id": "4c710daf",
   "metadata": {},
   "outputs": [],
   "source": [
    "# congigurar variáveis de ambiente\n",
    "load_dotenv()\n",
    "# Conectar ao banco PostgreSQL do 1° ano\n",
    "try:\n",
    "    conn_1ano = psycopg2.connect(\n",
    "        dbname=os.getenv(\"DBNAME_1ano\"),\n",
    "        user=os.getenv(\"USER\"),\n",
    "        password=os.getenv(\"PASSWORD\"),\n",
    "        host=os.getenv(\"HOST\"),\n",
    "    )\n",
    "    cur_1ano = conn_1ano.cursor()\n",
    "except Exception as e:\n",
    "    print(\"Erro ao conectar com o banco de dados do 1°ano: \",e)\n",
    "\n",
    "# Conectar ao banco PostgreSQL do 2° ano\n",
    "try:\n",
    "    conn_2ano = psycopg2.connect(\n",
    "        dbname=os.getenv(\"DBNAME_2ANO\"),\n",
    "        user=os.getenv(\"USER\"),\n",
    "        password=os.getenv(\"PASSWORD\"),\n",
    "        host=os.getenv(\"HOST\"),\n",
    "    )\n",
    "    cur_2ano = conn_2ano.cursor()\n",
    "except Exception as e:\n",
    "    print(\"Erro ao conectar com o banco de dados do 2°ano: \",e)"
   ]
  },
  {
   "cell_type": "markdown",
   "id": "fd43bf6c",
   "metadata": {},
   "source": [
    "***Teste para Verificação de Conexão ao Banco do 1° ano***"
   ]
  },
  {
   "cell_type": "code",
   "execution_count": 62,
   "id": "0a210923",
   "metadata": {},
   "outputs": [
    {
     "name": "stdout",
     "output_type": "stream",
     "text": [
      "(1, '3 TB', 'Básico', 49.91)\n"
     ]
    }
   ],
   "source": [
    "try:\n",
    "    # Testando a conexão com o banco do 1° ano\n",
    "    query = \"SELECT * FROM plano LIMIT 3;\"\n",
    "    cur_1ano.execute(query)\n",
    "    rows = cur_1ano.fetchall()\n",
    "\n",
    "    for row in rows:\n",
    "        print(row)\n",
    "except Exception as e:\n",
    "    print(\"Erro: \",e)\n",
    "    "
   ]
  },
  {
   "cell_type": "markdown",
   "id": "3f8a25a6",
   "metadata": {},
   "source": [
    "***Teste para Verificação de Conexão ao Banco do 2° ano***"
   ]
  },
  {
   "cell_type": "code",
   "execution_count": 63,
   "id": "1e84294f",
   "metadata": {},
   "outputs": [
    {
     "name": "stdout",
     "output_type": "stream",
     "text": [
      "(1, 'Básico', Decimal('49.90'), '2 TB')\n",
      "(2, 'Intermediário', Decimal('199.90'), '3 TB')\n",
      "(3, 'Corporativo', Decimal('299.90'), '4 TB')\n"
     ]
    }
   ],
   "source": [
    "try:\n",
    "    # Testando a conexão com o banco do 1° ano\n",
    "    query = \"SELECT * FROM planos LIMIT 3;\"\n",
    "    cur_2ano.execute(query)\n",
    "    rows = cur_2ano.fetchall()\n",
    "\n",
    "    for row in rows:\n",
    "        print(row)\n",
    "except Exception as e:\n",
    "    print(\"Erro: \",e)"
   ]
  },
  {
   "cell_type": "markdown",
   "id": "915747a9",
   "metadata": {},
   "source": [
    "***Inicialização de Variáveis com o Nome das Tabelas e seus Campos para Obter Maior Facilidade na Manutenção do Código.***"
   ]
  },
  {
   "cell_type": "code",
   "execution_count": 64,
   "id": "e5ab49b8",
   "metadata": {},
   "outputs": [],
   "source": [
    "tabelas_1ano = {\"plano\": [\"id\",\"nome\",\"preco\",\"armazenamento\"],\n",
    "                \"condena\":[\"id\",\"nome\",\"tipo\"], \n",
    "                \"empresa\":[\"id\",\"nome\",\"cnpj\"]\n",
    "                }\n",
    "\n",
    "\n",
    "tabelas_2ano = {\"planos\": [\"id\",\"nome\",\"preco\",\"armazenamento\"], \n",
    "                \"condena\":[\"id\",\"nome\",\"tipo\"],\n",
    "                \"empresa\":[\"id\",\"nome\"]\n",
    "                }"
   ]
  },
  {
   "cell_type": "markdown",
   "id": "4af4ff1c",
   "metadata": {},
   "source": [
    "***Início do RPA***"
   ]
  },
  {
   "cell_type": "code",
   "execution_count": 65,
   "id": "2d924d89",
   "metadata": {},
   "outputs": [],
   "source": [
    "# Função que realiza o RPA entre as duas tabelas\n",
    "def RPA_inter(tabela_1ano, colunas_1ano, tabela_2ano, colunas_2ano, conn_1ano_param, conn_2ano_param):\n",
    "\n",
    "    cursor_1ano = conn_1ano_param.cursor()\n",
    "    cursor_2ano = conn_2ano_param.cursor()\n",
    "\n",
    "    # Transforma a lista em texto separado por vírgulas para colocar na query\n",
    "    colunas_1ano_str = \", \".join(colunas_1ano)\n",
    "    colunas_2ano_str = \", \".join(colunas_2ano)\n",
    "    \n",
    "    # Monta placeholders (%s, %s, ...) -- vários %s apenas para o número de colunas\n",
    "    placeholders = \", \".join([\"%s\"] * len(colunas_2ano))\n",
    "\n",
    "    # Exclude feito com for para não atualizar o id\n",
    "    excluded = \", \".join([\n",
    "        f\"{col} = EXCLUDED.{col}\" for col in colunas_2ano if col != \"id\"\n",
    "    ])\n",
    "\n",
    "    condicoes = \" OR \".join([\n",
    "        f\"{tabela_2ano}.{col} IS DISTINCT FROM EXCLUDED.{col}\"\n",
    "        for col in colunas_2ano if col != \"id\"\n",
    "    ])\n",
    "\n",
    "    # --- Busca de dados da tabela do 1° ano ---\n",
    "    cursor_1ano.execute(f\"SELECT {colunas_1ano_str} FROM {tabela_1ano};\")\n",
    "    dados_1ano = cursor_1ano.fetchall()\n",
    "\n",
    "    \n",
    "\n",
    "    # --- Faz o merge na tabela de destino, se nao houver conflitos no id irá adicionar o que veio do banco, porém caso tenha o id, atualiza se necessário ---\n",
    "    try:\n",
    "        for linha in dados_1ano:\n",
    "            query = f\"\"\"\n",
    "                INSERT INTO {tabela_2ano} ({colunas_2ano_str})\n",
    "                VALUES ({placeholders})\n",
    "                ON CONFLICT (id) DO UPDATE\n",
    "                SET {excluded}\n",
    "                WHERE {condicoes};\n",
    "            \"\"\"\n",
    "            cursor_2ano.execute(query, linha)\n",
    "        conn_2ano.commit()\n",
    "        print(f\"Dados da tabela {tabela_1ano} inseridos/atualizados com sucesso na tabela {tabela_2ano}.\")\n",
    "    except Exception as e:\n",
    "        conn_2ano.rollback()\n",
    "        print(\"Erro ao inserir/atualizar dados: \",e)\n",
    "\n"
   ]
  },
  {
   "cell_type": "markdown",
   "id": "f38f484a",
   "metadata": {},
   "source": [
    "***Teste Para Iteração Entre Duas Tabelas***"
   ]
  },
  {
   "cell_type": "code",
   "execution_count": 66,
   "id": "6a197280",
   "metadata": {},
   "outputs": [
    {
     "name": "stdout",
     "output_type": "stream",
     "text": [
      "Tabela 1: plano -> Colunas: ['id', 'nome', 'preco', 'armazenamento']\n",
      "Tabela 2: planos -> Colunas: ['id', 'nome', 'preco', 'armazenamento']\n",
      "Tabela 1: condena -> Colunas: ['id', 'nome', 'tipo']\n",
      "Tabela 2: condena -> Colunas: ['id', 'nome', 'tipo']\n",
      "Tabela 1: empresa -> Colunas: ['id', 'nome', 'cnpj']\n",
      "Tabela 2: empresa -> Colunas: ['id', 'nome']\n"
     ]
    }
   ],
   "source": [
    "# iteração para executar o RPA em todas as tabelas definidas -- exemplo de como funciona abaixo\n",
    "for (key_1, valor_1), (key_2, valor_2) in zip(tabelas_1ano.items(), tabelas_2ano.items()):\n",
    "    \n",
    "    print(f\"Tabela 1: {key_1} -> Colunas: {valor_1}\")\n",
    "    print(f\"Tabela 2: {key_2} -> Colunas: {valor_2}\")\n"
   ]
  },
  {
   "cell_type": "markdown",
   "id": "4787121f",
   "metadata": {},
   "source": [
    "***Execução do RPA***"
   ]
  },
  {
   "cell_type": "code",
   "execution_count": null,
   "id": "ddbc5748",
   "metadata": {},
   "outputs": [],
   "source": [
    "\n",
    "# Executa o RPA para cada tabela\n",
    "for (key_1, valor_1), (key_2, valor_2) in zip(tabelas_1ano.items(), tabelas_2ano.items()):\n",
    "    if key_1 == \"empresa\":\n",
    "        valor_1.remove(\"cnpj\")  # Remover a coluna 'cnpj' da tabela do 1° ano, pois não existe na tabela do 2° ano e não é utilizado\n",
    "    RPA_inter(key_1, valor_1, key_2, valor_2, conn_1ano, conn_2ano)\n",
    "\n"
   ]
  }
 ],
 "metadata": {
  "kernelspec": {
   "display_name": "Python 3",
   "language": "python",
   "name": "python3"
  },
  "language_info": {
   "codemirror_mode": {
    "name": "ipython",
    "version": 3
   },
   "file_extension": ".py",
   "mimetype": "text/x-python",
   "name": "python",
   "nbconvert_exporter": "python",
   "pygments_lexer": "ipython3",
   "version": "3.11.9"
  }
 },
 "nbformat": 4,
 "nbformat_minor": 5
}
